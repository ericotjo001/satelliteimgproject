{
 "cells": [
  {
   "cell_type": "code",
   "execution_count": 1,
   "id": "defca248",
   "metadata": {},
   "outputs": [],
   "source": [
    "import pandas as pd\n",
    "import numpy as np\n",
    "import os"
   ]
  },
  {
   "cell_type": "code",
   "execution_count": 2,
   "id": "4b7e677e",
   "metadata": {},
   "outputs": [
    {
     "name": "stdout",
     "output_type": "stream",
     "text": [
      "total data: 35235\n",
      "Index(['cluster', 'svyid', 'wealthpooled', 'wealthpooled5country', 'wealth',\n",
      "       'iso3', 'hv000', 'year', 'cname', 'country', 'region', 'iso3n',\n",
      "       'households', 'LATNUM', 'LONGNUM', 'URBAN_RURA'],\n",
      "      dtype='object')\n"
     ]
    }
   ],
   "source": [
    "if not os.path.exists('extracted'):\n",
    "    os.makedirs('extracted', exist_ok=True)\n",
    "RAW_DHS_DATA_DIR = 'raw/dhs_wealth_index.csv'\n",
    "TRAIN_DHS_DATA_DIR = 'extracted/dhs_wealth_index_train.csv'\n",
    "VAL_DHS_DATA_DIR = 'extracted/dhs_wealth_index_val.csv'\n",
    "TEST_DHS_DATA_DIR = 'extracted/dhs_wealth_index_test.csv'\n",
    "\n",
    "df_dhs = pd.read_csv(RAW_DHS_DATA_DIR)\n",
    "print('total data:',len(df_dhs))\n",
    "print(df_dhs.columns)"
   ]
  },
  {
   "cell_type": "code",
   "execution_count": 3,
   "id": "1dd9bd03",
   "metadata": {},
   "outputs": [
    {
     "name": "stdout",
     "output_type": "stream",
     "text": [
      "  country  year    wealth  wealthpooled  households     LATNUM    LONGNUM\n",
      "0  Angola  2011  1.713497      2.595618          36 -12.350257  13.534922\n",
      "1  Angola  2011  1.545335      2.209620          32 -12.360865  13.551494\n",
      "2  Angola  2011  0.631730      0.906469          36 -12.613421  13.413085\n",
      "3  Angola  2011  0.826273      1.105359          35 -12.581454  13.397711\n",
      "4  Angola  2011  1.293282      1.879344          37 -12.578135  13.418748\n",
      "available data: 27077\n"
     ]
    }
   ],
   "source": [
    "\"\"\"\n",
    "\"wealthpooled\": the \"asset wealth index\" (AWI) of each household, standardized across all surveys, \n",
    "  then averaged to the cluster level.\n",
    "\"wealth\": \"wealth\": AWI standardized within each country at the household level, aggregated to the cluster level.  \n",
    "\"\"\"\n",
    "COLUMN_OF_INTEREST = ['country','year','wealth','wealthpooled', 'households', 'LATNUM','LONGNUM']\n",
    "df_dhs_relevant = df_dhs.loc[:,COLUMN_OF_INTEREST]\n",
    "df_dhs_relevant = df_dhs_relevant.dropna()\n",
    "print(df_dhs_relevant.head())\n",
    "print('available data:',len(df_dhs_relevant))"
   ]
  },
  {
   "cell_type": "code",
   "execution_count": 4,
   "id": "ff9c4d95",
   "metadata": {},
   "outputs": [
    {
     "name": "stdout",
     "output_type": "stream",
     "text": [
      "              id country  year    wealth  wealthpooled  households     LATNUM  \\\n",
      "0  0_Angola_2011  Angola  2011  1.713497      2.595618          36 -12.350257   \n",
      "1  1_Angola_2011  Angola  2011  1.545335      2.209620          32 -12.360865   \n",
      "2  2_Angola_2011  Angola  2011  0.631730      0.906469          36 -12.613421   \n",
      "3  3_Angola_2011  Angola  2011  0.826273      1.105359          35 -12.581454   \n",
      "4  4_Angola_2011  Angola  2011  1.293282      1.879344          37 -12.578135   \n",
      "\n",
      "     LONGNUM  \n",
      "0  13.534922  \n",
      "1  13.551494  \n",
      "2  13.413085  \n",
      "3  13.397711  \n",
      "4  13.418748  \n"
     ]
    }
   ],
   "source": [
    "def insert_id_column(df):\n",
    "    idcol = []\n",
    "    indices = df.index[:]\n",
    "    for i in indices:\n",
    "        this_row = df.loc[i]\n",
    "        country_year_id = '%s_%s_%s'%(str(i),str(this_row['country']),str(this_row['year']))\n",
    "        idcol.append(country_year_id)\n",
    "    df.insert(0,'id', idcol)\n",
    "    return df\n",
    "df_dhs_relevant = insert_id_column(df_dhs_relevant)\n",
    "print(df_dhs_relevant.head())"
   ]
  },
  {
   "cell_type": "code",
   "execution_count": 5,
   "id": "bd4bf31b",
   "metadata": {},
   "outputs": [
    {
     "name": "stdout",
     "output_type": "stream",
     "text": [
      "leng df_dhs_train_val: 6252\n",
      "leng df_dhs_test: 4424\n"
     ]
    }
   ],
   "source": [
    "df_dhs_train_val = df_dhs_relevant[(df_dhs_relevant['year']>=2013) & (df_dhs_relevant['year']<=2014)]\n",
    "df_dhs_test = df_dhs_relevant[(df_dhs_relevant['year']>=2015) & (df_dhs_relevant['year']<=2016)]\n",
    "print('leng df_dhs_train_val:',len(df_dhs_train_val))\n",
    "print('leng df_dhs_test:',len(df_dhs_test))"
   ]
  },
  {
   "cell_type": "code",
   "execution_count": 6,
   "id": "93e586ff",
   "metadata": {},
   "outputs": [
    {
     "name": "stdout",
     "output_type": "stream",
     "text": [
      "train:\n",
      "                           id       country  year    wealth  wealthpooled  \\\n",
      "1646  1646_Burkina Faso_2014  Burkina Faso  2014 -0.639860     -0.589851   \n",
      "1647  1647_Burkina Faso_2014  Burkina Faso  2014 -0.650348     -0.636919   \n",
      "1649  1649_Burkina Faso_2014  Burkina Faso  2014 -0.400257     -0.332651   \n",
      "1650  1650_Burkina Faso_2014  Burkina Faso  2014  1.005956      0.874612   \n",
      "1651  1651_Burkina Faso_2014  Burkina Faso  2014 -0.328516     -0.324034   \n",
      "\n",
      "      households     LATNUM   LONGNUM  \n",
      "1646          25  13.068499 -3.655191  \n",
      "1647          25  13.239115 -4.100196  \n",
      "1649          26  12.608467 -3.921584  \n",
      "1650          25  12.725513 -3.872126  \n",
      "1651          23  12.494392 -3.437510   \n",
      " leng: 4396\n",
      "val:\n",
      "                           id       country  year    wealth  wealthpooled  \\\n",
      "1648  1648_Burkina Faso_2014  Burkina Faso  2014 -0.441337     -0.515898   \n",
      "1652  1652_Burkina Faso_2014  Burkina Faso  2014 -0.490227     -0.419723   \n",
      "1653  1653_Burkina Faso_2014  Burkina Faso  2014 -0.232631     -0.142224   \n",
      "1657  1657_Burkina Faso_2014  Burkina Faso  2014  0.683619      0.418338   \n",
      "1661  1661_Burkina Faso_2014  Burkina Faso  2014 -0.263530     -0.148426   \n",
      "\n",
      "      households     LATNUM   LONGNUM  \n",
      "1648          26  12.974332 -4.121810  \n",
      "1652          24  12.148797 -3.710033  \n",
      "1653          25  12.204506 -3.187574  \n",
      "1657          26  13.082855 -3.063647  \n",
      "1661          26  11.755858 -4.306393   \n",
      " leng: 1856\n",
      "train fraction: 0.7031349968010236\n"
     ]
    }
   ],
   "source": [
    "def split_train_val(df,train_probability=0.7):\n",
    "    assignment_col = np.random.choice(['train','val'],len(df),p=[train_probability,1-train_probability])\n",
    "    df.insert(0,'assignment',assignment_col)\n",
    "    df_train = df[df['assignment']=='train'].loc[:,['id']+ COLUMN_OF_INTEREST]\n",
    "    df_val = df[df['assignment']=='val'].loc[:, ['id']+COLUMN_OF_INTEREST]\n",
    "    \n",
    "    return df_train, df_val\n",
    "df_dhs_train, df_dhs_val = split_train_val(df_dhs_train_val,train_probability=0.7)\n",
    "print('train:\\n',df_dhs_train.head(),'\\n leng:', len(df_dhs_train))\n",
    "print('val:\\n',df_dhs_val.head(),'\\n leng:',len(df_dhs_val))\n",
    "\n",
    "print('train fraction:', len(df_dhs_train)/(len(df_dhs_train)+len(df_dhs_val)))"
   ]
  },
  {
   "cell_type": "code",
   "execution_count": 7,
   "id": "b51aff4f",
   "metadata": {},
   "outputs": [],
   "source": [
    "df_dhs_train.to_csv(TRAIN_DHS_DATA_DIR)\n",
    "df_dhs_val.to_csv(VAL_DHS_DATA_DIR)\n",
    "df_dhs_test.to_csv(TEST_DHS_DATA_DIR)"
   ]
  },
  {
   "cell_type": "markdown",
   "id": "45ca366a",
   "metadata": {},
   "source": [
    "## Part 2. LSMS Wealth Index"
   ]
  },
  {
   "cell_type": "code",
   "execution_count": 8,
   "id": "b530f104",
   "metadata": {},
   "outputs": [
    {
     "name": "stdout",
     "output_type": "stream",
     "text": [
      "total data: 3020\n",
      "Index(['lat', 'lon', 'year', 'country', 'index_all', 'ea_id', 'index_rep',\n",
      "       'et_index', 'n', 'geolev1', 'geolev2', 'rooms', 'electric', 'phone',\n",
      "       'radio', 'tv', 'auto', 'floor_qual', 'toilet_qual', 'watsup_qual'],\n",
      "      dtype='object')\n"
     ]
    }
   ],
   "source": [
    "RAW_LSMS_DATA_DIR = 'raw/lsms_wealth_index.csv'\n",
    "TRAIN_LSMS_DATA_DIR = 'extracted/lsms_wealth_index_train.csv'\n",
    "VAL_LSMS_DATA_DIR = 'extracted/lsms_wealth_index_val.csv'\n",
    "TEST_LSMS_DATA_DIR = 'extracted/lsms_wealth_index_test.csv'\n",
    "\n",
    "\"\"\"\n",
    "index_all comes from lsms_labels_agg.csv\n",
    "  \"index\" column computed as PCA over all LSMS data over the 5 countries (Ethiopia, Malawi, Nigeria, Tanzania, Uganda);\n",
    "  index computed over households in all 3020 LSMS villages\n",
    "index_rep comes from lsms_labels_index_agg_geolocated.csv\n",
    "  updated index, with more migrant households removed\n",
    "\"\"\"\n",
    "\n",
    "df_lsms = pd.read_csv(RAW_LSMS_DATA_DIR)\n",
    "print('total data:',len(df_lsms))\n",
    "print(df_lsms.columns)"
   ]
  },
  {
   "cell_type": "code",
   "execution_count": 9,
   "id": "e5ce8adb",
   "metadata": {},
   "outputs": [
    {
     "name": "stdout",
     "output_type": "stream",
     "text": [
      "        lat        lon  year country  index_all  index_rep\n",
      "0 -0.292248  31.478722  2005  uganda   0.045405   0.042136\n",
      "1 -0.292248  31.478722  2009  uganda  -0.333650  -0.326794\n",
      "2 -0.292248  31.478722  2013  uganda  -0.386531  -0.373920\n",
      "3 -0.439120  31.711950  2005  uganda   0.310049   0.301829\n",
      "4 -0.439120  31.711950  2009  uganda   0.085589   0.090705\n",
      "available data: 2915\n"
     ]
    }
   ],
   "source": [
    "LSMS_COLUMNS = ['lat', 'lon', 'year', 'country', 'index_all', 'index_rep']\n",
    "df_lsms_rel = df_lsms.loc[:,LSMS_COLUMNS]\n",
    "df_lsms_rel = df_lsms_rel.dropna()\n",
    "print(df_lsms_rel.head())\n",
    "print('available data:',len(df_lsms_rel))"
   ]
  },
  {
   "cell_type": "code",
   "execution_count": 10,
   "id": "62be9b0f",
   "metadata": {},
   "outputs": [
    {
     "name": "stdout",
     "output_type": "stream",
     "text": [
      "['ethiopia', 'malawi', 'nigeria', 'tanzania', 'uganda']\n",
      "list of year: [2005, 2008, 2009, 2010, 2011, 2012, 2013, 2015, 2016]\n",
      "\n",
      "n data train and val: 973\n",
      "n data test: 102\n"
     ]
    }
   ],
   "source": [
    "print(sorted(set(list(df_lsms_rel['country']))))\n",
    "print('list of year:',sorted(set(df_lsms_rel['year'].to_numpy())))\n",
    "print()\n",
    "print('n data train and val:',len(df_lsms_rel[(df_lsms_rel['year']>=2013) & (df_lsms_rel['year']<=2015)]))\n",
    "print('n data test:',len(df_lsms_rel[(df_lsms_rel['year']>=2016) ]))"
   ]
  },
  {
   "cell_type": "code",
   "execution_count": 11,
   "id": "4071c4c3",
   "metadata": {},
   "outputs": [
    {
     "name": "stdout",
     "output_type": "stream",
     "text": [
      "              id       lat        lon  year country  index_all  index_rep\n",
      "0  0_uganda_2005 -0.292248  31.478722  2005  uganda   0.045405   0.042136\n",
      "1  1_uganda_2009 -0.292248  31.478722  2009  uganda  -0.333650  -0.326794\n",
      "2  2_uganda_2013 -0.292248  31.478722  2013  uganda  -0.386531  -0.373920\n",
      "3  3_uganda_2005 -0.439120  31.711950  2005  uganda   0.310049   0.301829\n",
      "4  4_uganda_2009 -0.439120  31.711950  2009  uganda   0.085589   0.090705\n"
     ]
    }
   ],
   "source": [
    "df_lsms_rel = insert_id_column(df_lsms_rel)\n",
    "print(df_lsms_rel.head())"
   ]
  },
  {
   "cell_type": "code",
   "execution_count": 12,
   "id": "5f091e23",
   "metadata": {},
   "outputs": [
    {
     "name": "stdout",
     "output_type": "stream",
     "text": [
      "n train/val/test 670 303 102\n",
      "train fraction: 0.6885919835560124\n",
      "                id       lat        lon  year country  index_all  index_rep\n",
      "2    2_uganda_2013 -0.292248  31.478722  2013  uganda  -0.386531  -0.373920\n",
      "5    5_uganda_2013 -0.439120  31.711950  2013  uganda   0.317944   0.340910\n",
      "11  11_uganda_2013 -0.508831  31.333286  2013  uganda  -0.447883  -0.437503\n",
      "14  14_uganda_2013 -0.518612  31.194437  2013  uganda  -0.078402  -0.065410\n",
      "17  17_uganda_2013 -0.530628  32.327492  2013  uganda  -0.253745  -0.258809\n",
      "                id       lat        lon  year country  index_all  index_rep\n",
      "8    8_uganda_2013 -0.503361  31.616070  2013  uganda   0.291547   0.305004\n",
      "20  20_uganda_2013 -0.549797  30.067520  2013  uganda   0.055590   0.065336\n",
      "23  23_uganda_2013 -0.553773  30.303692  2013  uganda   0.637925   0.634928\n",
      "26  26_uganda_2013 -0.560572  30.678801  2013  uganda   0.838874   0.840463\n",
      "35  35_uganda_2013 -0.639231  31.529987  2013  uganda   0.645061   0.651606\n",
      "                  id      lat        lon  year country  index_all  index_rep\n",
      "185  185_malawi_2016 -11.2850  33.778500  2016  malawi  -0.191203  -0.177971\n",
      "187  187_malawi_2016 -11.3125  33.479900  2016  malawi  -0.405792  -0.392666\n",
      "191  191_malawi_2016 -11.4076  33.994900  2016  malawi   0.384180   0.378489\n",
      "193  193_malawi_2016 -11.4330  34.023499  2016  malawi   0.434635   0.430470\n",
      "195  195_malawi_2016 -11.4608  33.973900  2016  malawi  -0.068935  -0.063365\n"
     ]
    }
   ],
   "source": [
    "def split_train_val_test(df, train_probability=0.7):\n",
    "    df_train_val = df[(df['year']>=2013) & (df['year']<=2015)]\n",
    "    assignment_col = np.random.choice(['train','val'],len(df_train_val),p=[train_probability,1-train_probability])\n",
    "    df_train_val.insert(0,'assignment',assignment_col)\n",
    "    \n",
    "    df_train = df_train_val[df_train_val['assignment']=='train']\n",
    "    df_train = df_train.loc[:,['id']+LSMS_COLUMNS]\n",
    "    df_val = df_train_val[df_train_val['assignment']=='val']\n",
    "    df_val = df_val.loc[:,['id']+LSMS_COLUMNS]\n",
    "    \n",
    "    df_test = df[(df['year']>=2016) ]\n",
    "    return df_train, df_val, df_test\n",
    "\n",
    "df_train, df_val, df_test =split_train_val_test(df_lsms_rel)\n",
    "\n",
    "print('n train/val/test',len(df_train), len(df_val), len(df_test))\n",
    "print('train fraction:',len(df_train)/(len(df_train)+len(df_val)))\n",
    "print(df_train.head())\n",
    "print(df_val.head())\n",
    "print(df_test.head())"
   ]
  },
  {
   "cell_type": "code",
   "execution_count": 13,
   "id": "4f458792",
   "metadata": {},
   "outputs": [],
   "source": [
    "df_train.to_csv(TRAIN_LSMS_DATA_DIR)\n",
    "df_val.to_csv(VAL_LSMS_DATA_DIR) \n",
    "df_test.to_csv(TEST_LSMS_DATA_DIR)"
   ]
  }
 ],
 "metadata": {
  "kernelspec": {
   "display_name": "Python 3 (ipykernel)",
   "language": "python",
   "name": "python3"
  },
  "language_info": {
   "codemirror_mode": {
    "name": "ipython",
    "version": 3
   },
   "file_extension": ".py",
   "mimetype": "text/x-python",
   "name": "python",
   "nbconvert_exporter": "python",
   "pygments_lexer": "ipython3",
   "version": "3.9.13"
  }
 },
 "nbformat": 4,
 "nbformat_minor": 5
}
