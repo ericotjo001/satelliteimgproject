{
 "cells": [
  {
   "cell_type": "code",
   "execution_count": 1,
   "id": "e719188c",
   "metadata": {},
   "outputs": [],
   "source": [
    "import os\n",
    "import ee\n",
    "import pandas as pd\n",
    "from tqdm import tqdm\n",
    "import numpy as np\n",
    "from ee_utils import download_dhs_img, download_lsms_img"
   ]
  },
  {
   "cell_type": "code",
   "execution_count": 2,
   "id": "a60cba01",
   "metadata": {},
   "outputs": [
    {
     "data": {
      "text/html": [
       "<p>To authorize access needed by Earth Engine, open the following\n",
       "        URL in a web browser and follow the instructions:</p>\n",
       "        <p><a href=https://code.earthengine.google.com/client-auth?scopes=https%3A//www.googleapis.com/auth/earthengine%20https%3A//www.googleapis.com/auth/devstorage.full_control&request_id=37HOkyGJ95Ahfce6hxv3HSgW9gso4EvrtCI7xWcrVgI&tc=0Bjwny0UUByRPZTddR3U5l_nQzWY8Pd2qp2PxKOiYKw&cc=yo5IgUHXwPAzYCJpxYNrL9rFF70qL8iGIyUrltl2jOM>https://code.earthengine.google.com/client-auth?scopes=https%3A//www.googleapis.com/auth/earthengine%20https%3A//www.googleapis.com/auth/devstorage.full_control&request_id=37HOkyGJ95Ahfce6hxv3HSgW9gso4EvrtCI7xWcrVgI&tc=0Bjwny0UUByRPZTddR3U5l_nQzWY8Pd2qp2PxKOiYKw&cc=yo5IgUHXwPAzYCJpxYNrL9rFF70qL8iGIyUrltl2jOM</a></p>\n",
       "        <p>The authorization workflow will generate a code, which you\n",
       "        should paste in the box below</p>\n",
       "        "
      ],
      "text/plain": [
       "<IPython.core.display.HTML object>"
      ]
     },
     "metadata": {},
     "output_type": "display_data"
    },
    {
     "name": "stdout",
     "output_type": "stream",
     "text": [
      "Enter verification code: 4/1AX4XfWiwDy2j3O5qAQKG3MzcBT_Gl1oPOSwwz0XWWPWj8uyJMupumSvJBfo\n",
      "\n",
      "Successfully saved authorization token.\n"
     ]
    }
   ],
   "source": [
    "ee.Authenticate()"
   ]
  },
  {
   "cell_type": "code",
   "execution_count": 3,
   "id": "41fa3642",
   "metadata": {},
   "outputs": [],
   "source": [
    "ee.Initialize()"
   ]
  },
  {
   "cell_type": "code",
   "execution_count": 4,
   "id": "8f8a0171",
   "metadata": {},
   "outputs": [
    {
     "name": "stdout",
     "output_type": "stream",
     "text": [
      "train_csv       : extracted/dhs_wealth_index_train.csv\n",
      "train_img       : imgs/dhs_train\n",
      "val_csv         : extracted/dhs_wealth_index_val.csv\n",
      "val_img         : imgs/dhs_val\n",
      "test_csv        : extracted/dhs_wealth_index_test.csv\n",
      "test_img        : imgs/dhs_test\n"
     ]
    }
   ],
   "source": [
    "DHS_DATA_DIR = {}\n",
    "for x in ['train','val','test']:\n",
    "    DHS_DATA_DIR['%s_csv'%(str(x))] = 'extracted/dhs_wealth_index_%s.csv'%(str(x))\n",
    "    DHS_DATA_DIR['%s_img'%(str(x))] = 'imgs/dhs_%s'%(str(x))\n",
    "for x,y in DHS_DATA_DIR.items():\n",
    "    print('%-16s:'%(str(x)),y)"
   ]
  },
  {
   "cell_type": "markdown",
   "id": "f9daea5d",
   "metadata": {},
   "source": [
    "## Why need mask_qaclear and mean as reduction?\n",
    "mask_qaclear helps clear the cloud. Mean helps to smoothen images.\n",
    "Without mean e.g. if you use median, you might happen to pick the image with lots of cloud. If you mask away the cloud without averaging (mean), you might end up with an image with large empty patch where the cloud used to be. This is because, without mean, you don't know what information lies beyond the cloud, although they do exist somewhere within the collection.\n",
    "See the following results to understand why."
   ]
  },
  {
   "cell_type": "markdown",
   "id": "1d24ec6c",
   "metadata": {},
   "source": [
    "### What if we don't clear the cloud?\n",
    "It's bad because the images are very cloudy"
   ]
  },
  {
   "cell_type": "code",
   "execution_count": 5,
   "id": "ada1f5be",
   "metadata": {},
   "outputs": [
    {
     "name": "stderr",
     "output_type": "stream",
     "text": [
      "processing:3061/4396:   0%|▏                                                       | 19/4396 [01:01<3:56:52,  3.25s/it]\n"
     ]
    }
   ],
   "source": [
    "TEMPDIR = {\n",
    "    'train_img':'imgs/dhs_poorexhibit1',\n",
    "    'train_csv':'extracted/dhs_wealth_index_train.csv',\n",
    "}\n",
    "download_dhs_img(TEMPDIR, split='train', dim=512, radius=3000, STOP_AT=5, \n",
    "                 qa_clear=False, img_reduction='mean', randomizequeue=True)"
   ]
  },
  {
   "cell_type": "markdown",
   "id": "021b8c45",
   "metadata": {},
   "source": [
    "## Downloading satellite image data from DHS (train)"
   ]
  },
  {
   "cell_type": "code",
   "execution_count": 6,
   "id": "92fd2dbf",
   "metadata": {},
   "outputs": [],
   "source": [
    "STOP_AT= None # 20 # set to None if not debugging"
   ]
  },
  {
   "cell_type": "code",
   "execution_count": 7,
   "id": "81604fda",
   "metadata": {},
   "outputs": [
    {
     "name": "stderr",
     "output_type": "stream",
     "text": [
      "processing:4395/4396: 100%|██████████████████████████████████████████████████████| 4396/4396 [5:09:21<00:00,  4.22s/it]\n"
     ]
    }
   ],
   "source": [
    "download_dhs_img(DHS_DATA_DIR, split='train', dim=512, radius=3000, STOP_AT=STOP_AT)"
   ]
  },
  {
   "cell_type": "code",
   "execution_count": 8,
   "id": "56af69e8",
   "metadata": {},
   "outputs": [
    {
     "name": "stderr",
     "output_type": "stream",
     "text": [
      "processing:4395/4396: 100%|██████████████████████████████████████████████████████| 4396/4396 [5:54:44<00:00,  4.84s/it]\n"
     ]
    }
   ],
   "source": [
    "download_dhs_img(DHS_DATA_DIR, data_source = 'landsat8_infrared', split='train', dim=512, radius=3000, STOP_AT=STOP_AT)"
   ]
  },
  {
   "cell_type": "code",
   "execution_count": null,
   "id": "02d03af2",
   "metadata": {},
   "outputs": [],
   "source": []
  }
 ],
 "metadata": {
  "kernelspec": {
   "display_name": "Python 3 (ipykernel)",
   "language": "python",
   "name": "python3"
  },
  "language_info": {
   "codemirror_mode": {
    "name": "ipython",
    "version": 3
   },
   "file_extension": ".py",
   "mimetype": "text/x-python",
   "name": "python",
   "nbconvert_exporter": "python",
   "pygments_lexer": "ipython3",
   "version": "3.9.13"
  }
 },
 "nbformat": 4,
 "nbformat_minor": 5
}
