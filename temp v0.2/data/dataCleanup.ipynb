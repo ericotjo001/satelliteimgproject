{
 "cells": [
  {
   "cell_type": "code",
   "execution_count": 1,
   "id": "e306f6f9",
   "metadata": {},
   "outputs": [],
   "source": [
    "import os\n",
    "import pandas as pd"
   ]
  },
  {
   "cell_type": "code",
   "execution_count": 2,
   "id": "8f2cc9e1",
   "metadata": {},
   "outputs": [
    {
     "name": "stdout",
     "output_type": "stream",
     "text": [
      "train_csv       : extracted/dhs_wealth_index_train.csv\n",
      "train_img       : imgs/dhs_train\n",
      "val_csv         : extracted/dhs_wealth_index_val.csv\n",
      "val_img         : imgs/dhs_val\n",
      "test_csv        : extracted/dhs_wealth_index_test.csv\n",
      "test_img        : imgs/dhs_test\n"
     ]
    }
   ],
   "source": [
    "DHS_DATA_DIR = {}\n",
    "for x in ['train','val','test']:\n",
    "    DHS_DATA_DIR['%s_csv'%(str(x))] = 'extracted/dhs_wealth_index_%s.csv'%(str(x))\n",
    "    DHS_DATA_DIR['%s_img'%(str(x))] = 'imgs/dhs_%s'%(str(x))\n",
    "for x,y in DHS_DATA_DIR.items():\n",
    "    print('%-16s:'%(str(x)),y)"
   ]
  },
  {
   "cell_type": "markdown",
   "id": "3fe405e5",
   "metadata": {},
   "source": [
    "## Cleaning up  DHS data\n",
    "We have observed dhs_train,dhs_val, dhs_test manually, and then delete images that are very noisy. The following codes are intended to remove the corresponding samples in the infrared data folder and the csv files. "
   ]
  },
  {
   "cell_type": "code",
   "execution_count": 3,
   "id": "75c92077",
   "metadata": {},
   "outputs": [],
   "source": [
    "def clean_infra_folder(datafolder):\n",
    "    match, notmatch = 0,0\n",
    "    rgb_folder = os.listdir(datafolder)\n",
    "    for x in os.listdir(datafolder+'infra'):\n",
    "        rgb_name = ''.join(x.split(\"_infra\"))\n",
    "        if rgb_name in rgb_folder:\n",
    "            match+=1\n",
    "        else:\n",
    "            notmatch+=1\n",
    "            toberemoved = os.path.join(datafolder+'infra',x)\n",
    "            os.remove(toberemoved)\n",
    "    print('match:%s. Deleted %s'%(str(match),str(notmatch)))\n",
    "\n",
    "def clean_csv(split,dataname='dhs'):\n",
    "    match, notmatch = 0,0\n",
    "    csv_dir = 'extracted/%s_wealth_index_%s.csv'%(str(dataname),str(split))\n",
    "    df = pd.read_csv(csv_dir, index_col=False)\n",
    "    indice_to_remove = []\n",
    "    for i in range(len(df)):\n",
    "        filename = df['id'].loc[i] + '.png'\n",
    "        imgdir = os.path.join('imgs','%s_%s'%(str(dataname),str(split)),filename)\n",
    "        \n",
    "        if os.path.exists(imgdir):\n",
    "            match+=1\n",
    "        else:\n",
    "            indice_to_remove.append(i)\n",
    "            notmatch +=1\n",
    "    df = df.drop(indice_to_remove)\n",
    "    df.to_csv(csv_dir, index=False)\n",
    "    print('match:%s. Deleted %s'%(str(match),str(notmatch)))"
   ]
  },
  {
   "cell_type": "code",
   "execution_count": 4,
   "id": "30f63ee3",
   "metadata": {},
   "outputs": [
    {
     "name": "stdout",
     "output_type": "stream",
     "text": [
      "cleaning up infrared data DHS [train]\n",
      "match:4335. Deleted 0\n",
      "cleaning up infrared data DHS [val]\n",
      "match:1835. Deleted 0\n",
      "cleaning up infrared data DHS [test]\n",
      "match:4370. Deleted 0\n"
     ]
    }
   ],
   "source": [
    "# if you rerun this, naturally you will see \"Deleted 0\".\n",
    "for x in ['train','val','test']:\n",
    "    print('cleaning up infrared data DHS [%s]'%(x))\n",
    "    clean_infra_folder(DHS_DATA_DIR['%s_img'%(x)])"
   ]
  },
  {
   "cell_type": "code",
   "execution_count": 5,
   "id": "c349bf25",
   "metadata": {},
   "outputs": [
    {
     "name": "stdout",
     "output_type": "stream",
     "text": [
      "cleaning up csv data DHS [train]\n",
      "match:4335. Deleted 0\n",
      "cleaning up csv data DHS [val]\n",
      "match:1835. Deleted 0\n",
      "cleaning up csv data DHS [test]\n",
      "match:4370. Deleted 0\n"
     ]
    }
   ],
   "source": [
    "for x in ['train','val','test']:\n",
    "    print('cleaning up csv data DHS [%s]'%(x))\n",
    "    clean_csv(x)"
   ]
  },
  {
   "cell_type": "markdown",
   "id": "0ff08d45",
   "metadata": {},
   "source": [
    "## LSMS data clean up is similar"
   ]
  },
  {
   "cell_type": "code",
   "execution_count": 6,
   "id": "4ee389da",
   "metadata": {},
   "outputs": [
    {
     "name": "stdout",
     "output_type": "stream",
     "text": [
      "train_csv       : extracted/lsms_wealth_index_train.csv\n",
      "train_img       : imgs/lsms_train\n",
      "val_csv         : extracted/lsms_wealth_index_val.csv\n",
      "val_img         : imgs/lsms_val\n",
      "test_csv        : extracted/lsms_wealth_index_test.csv\n",
      "test_img        : imgs/lsms_test\n"
     ]
    }
   ],
   "source": [
    "LSMS_DATA_DIR =  {}\n",
    "for x in ['train','val','test']:\n",
    "    LSMS_DATA_DIR['%s_csv'%(str(x))] = 'extracted/lsms_wealth_index_%s.csv'%(str(x))\n",
    "    LSMS_DATA_DIR['%s_img'%(str(x))] = 'imgs/lsms_%s'%(str(x))\n",
    "for x,y in LSMS_DATA_DIR .items():\n",
    "    print('%-16s:'%(str(x)),y)"
   ]
  },
  {
   "cell_type": "code",
   "execution_count": 7,
   "id": "62ce5b82",
   "metadata": {},
   "outputs": [
    {
     "name": "stdout",
     "output_type": "stream",
     "text": [
      "cleaning up infrared data LSMS [train]\n",
      "match:666. Deleted 0\n",
      "cleaning up infrared data LSMS [val]\n",
      "match:297. Deleted 0\n",
      "cleaning up infrared data LSMS [test]\n",
      "match:102. Deleted 0\n"
     ]
    }
   ],
   "source": [
    "for x in ['train','val','test']:\n",
    "    print('cleaning up infrared data LSMS [%s]'%(x))\n",
    "    clean_infra_folder(LSMS_DATA_DIR['%s_img'%(x)])"
   ]
  },
  {
   "cell_type": "code",
   "execution_count": 8,
   "id": "a1bff420",
   "metadata": {},
   "outputs": [
    {
     "name": "stdout",
     "output_type": "stream",
     "text": [
      "cleaning up csv data LSMS [train]\n",
      "match:666. Deleted 0\n",
      "cleaning up csv data LSMS [val]\n",
      "match:297. Deleted 0\n",
      "cleaning up csv data LSMS [test]\n",
      "match:102. Deleted 0\n"
     ]
    }
   ],
   "source": [
    "for x in ['train','val','test']:\n",
    "    print('cleaning up csv data LSMS [%s]'%(x))\n",
    "    clean_csv(x, dataname='lsms')"
   ]
  },
  {
   "cell_type": "code",
   "execution_count": null,
   "id": "4f97f8bb",
   "metadata": {},
   "outputs": [],
   "source": []
  }
 ],
 "metadata": {
  "kernelspec": {
   "display_name": "Python 3 (ipykernel)",
   "language": "python",
   "name": "python3"
  },
  "language_info": {
   "codemirror_mode": {
    "name": "ipython",
    "version": 3
   },
   "file_extension": ".py",
   "mimetype": "text/x-python",
   "name": "python",
   "nbconvert_exporter": "python",
   "pygments_lexer": "ipython3",
   "version": "3.9.13"
  }
 },
 "nbformat": 4,
 "nbformat_minor": 5
}
