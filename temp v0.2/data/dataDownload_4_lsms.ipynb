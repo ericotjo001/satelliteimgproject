{
 "cells": [
  {
   "cell_type": "code",
   "execution_count": 1,
   "id": "b883d938",
   "metadata": {},
   "outputs": [],
   "source": [
    "import os\n",
    "import ee\n",
    "import pandas as pd\n",
    "from tqdm import tqdm\n",
    "import numpy as np\n",
    "from ee_utils import download_dhs_img, download_lsms_img"
   ]
  },
  {
   "cell_type": "code",
   "execution_count": 2,
   "id": "6ae16635",
   "metadata": {},
   "outputs": [
    {
     "data": {
      "text/html": [
       "<p>To authorize access needed by Earth Engine, open the following\n",
       "        URL in a web browser and follow the instructions:</p>\n",
       "        <p><a href=https://code.earthengine.google.com/client-auth?scopes=https%3A//www.googleapis.com/auth/earthengine%20https%3A//www.googleapis.com/auth/devstorage.full_control&request_id=Mz6oa35tZeWHfH_esTBJgJo3q3vJF7DbHz4k1qmBIBI&tc=15p6FNFPiqbgbG5QeX9jsp1hNODAcHiESmbDTaLbA5s&cc=fmvqOB2Pd2B7pE94BcXWqvtZDRac80XBdtsLvdCj43o>https://code.earthengine.google.com/client-auth?scopes=https%3A//www.googleapis.com/auth/earthengine%20https%3A//www.googleapis.com/auth/devstorage.full_control&request_id=Mz6oa35tZeWHfH_esTBJgJo3q3vJF7DbHz4k1qmBIBI&tc=15p6FNFPiqbgbG5QeX9jsp1hNODAcHiESmbDTaLbA5s&cc=fmvqOB2Pd2B7pE94BcXWqvtZDRac80XBdtsLvdCj43o</a></p>\n",
       "        <p>The authorization workflow will generate a code, which you\n",
       "        should paste in the box below</p>\n",
       "        "
      ],
      "text/plain": [
       "<IPython.core.display.HTML object>"
      ]
     },
     "metadata": {},
     "output_type": "display_data"
    },
    {
     "name": "stdout",
     "output_type": "stream",
     "text": [
      "Enter verification code: 4/1AX4XfWiQEYprP2VjI6YR-7JQ3FaNh0o2xxpbxngOPqVv_3FsU017ukPkXaM\n",
      "\n",
      "Successfully saved authorization token.\n"
     ]
    }
   ],
   "source": [
    "ee.Authenticate()"
   ]
  },
  {
   "cell_type": "code",
   "execution_count": 3,
   "id": "d5849c62",
   "metadata": {},
   "outputs": [],
   "source": [
    "ee.Initialize()"
   ]
  },
  {
   "cell_type": "code",
   "execution_count": 4,
   "id": "6b89de94",
   "metadata": {},
   "outputs": [
    {
     "name": "stdout",
     "output_type": "stream",
     "text": [
      "train_csv       : extracted/lsms_wealth_index_train.csv\n",
      "train_img       : imgs/lsms_train\n",
      "val_csv         : extracted/lsms_wealth_index_val.csv\n",
      "val_img         : imgs/lsms_val\n",
      "test_csv        : extracted/lsms_wealth_index_test.csv\n",
      "test_img        : imgs/lsms_test\n"
     ]
    }
   ],
   "source": [
    "LSMS_DATA_DIR =  {}\n",
    "for x in ['train','val','test']:\n",
    "    LSMS_DATA_DIR['%s_csv'%(str(x))] = 'extracted/lsms_wealth_index_%s.csv'%(str(x))\n",
    "    LSMS_DATA_DIR['%s_img'%(str(x))] = 'imgs/lsms_%s'%(str(x))\n",
    "for x,y in LSMS_DATA_DIR .items():\n",
    "    print('%-16s:'%(str(x)),y)"
   ]
  },
  {
   "cell_type": "code",
   "execution_count": 5,
   "id": "dd6a0aa3",
   "metadata": {},
   "outputs": [],
   "source": [
    "STOP_AT= None # 5 # set to None if not debugging"
   ]
  },
  {
   "cell_type": "markdown",
   "id": "c7e88719",
   "metadata": {},
   "source": [
    "## Train data"
   ]
  },
  {
   "cell_type": "code",
   "execution_count": 6,
   "id": "466b22df",
   "metadata": {},
   "outputs": [
    {
     "name": "stderr",
     "output_type": "stream",
     "text": [
      "processing:669/670: 100%|████████████████████████████████████████████████████████████| 670/670 [50:35<00:00,  4.53s/it]\n"
     ]
    }
   ],
   "source": [
    "download_lsms_img(LSMS_DATA_DIR, data_source = 'landsat8_color', split='train', \n",
    "                     dim=512, radius=3000, qa_clear=True, img_reduction='mean', STOP_AT=STOP_AT, randomizequeue=False)"
   ]
  },
  {
   "cell_type": "code",
   "execution_count": 7,
   "id": "f81cb2d9",
   "metadata": {},
   "outputs": [
    {
     "name": "stderr",
     "output_type": "stream",
     "text": [
      "processing:669/670: 100%|████████████████████████████████████████████████████████████| 670/670 [51:33<00:00,  4.62s/it]\n"
     ]
    }
   ],
   "source": [
    "download_lsms_img(LSMS_DATA_DIR, data_source = 'landsat8_infrared', split='train', \n",
    "                     dim=512, radius=3000, qa_clear=True, img_reduction='mean', STOP_AT=STOP_AT, randomizequeue=False)"
   ]
  },
  {
   "cell_type": "markdown",
   "id": "fb2e40d3",
   "metadata": {},
   "source": [
    "## Val data"
   ]
  },
  {
   "cell_type": "code",
   "execution_count": 8,
   "id": "29129547",
   "metadata": {},
   "outputs": [
    {
     "name": "stderr",
     "output_type": "stream",
     "text": [
      "processing:302/303: 100%|████████████████████████████████████████████████████████████| 303/303 [22:13<00:00,  4.40s/it]\n",
      "processing:302/303: 100%|████████████████████████████████████████████████████████████| 303/303 [22:58<00:00,  4.55s/it]\n"
     ]
    }
   ],
   "source": [
    "download_lsms_img(LSMS_DATA_DIR, data_source = 'landsat8_color', split='val', \n",
    "                     dim=512, radius=3000, qa_clear=True, img_reduction='mean', STOP_AT=STOP_AT, randomizequeue=False)\n",
    "download_lsms_img(LSMS_DATA_DIR, data_source = 'landsat8_infrared', split='val', \n",
    "                     dim=512, radius=3000, qa_clear=True, img_reduction='mean', STOP_AT=STOP_AT, randomizequeue=False)"
   ]
  },
  {
   "cell_type": "markdown",
   "id": "bd785f1a",
   "metadata": {},
   "source": [
    "## Test data"
   ]
  },
  {
   "cell_type": "code",
   "execution_count": 9,
   "id": "764aa0c9",
   "metadata": {},
   "outputs": [
    {
     "name": "stderr",
     "output_type": "stream",
     "text": [
      "processing:101/102: 100%|████████████████████████████████████████████████████████████| 102/102 [07:15<00:00,  4.27s/it]\n",
      "processing:101/102: 100%|████████████████████████████████████████████████████████████| 102/102 [07:27<00:00,  4.39s/it]\n"
     ]
    }
   ],
   "source": [
    "download_lsms_img(LSMS_DATA_DIR, data_source = 'landsat8_color', split='test', \n",
    "                     dim=512, radius=3000, qa_clear=True, img_reduction='mean', STOP_AT=STOP_AT, randomizequeue=False)\n",
    "download_lsms_img(LSMS_DATA_DIR, data_source = 'landsat8_infrared', split='test', \n",
    "                     dim=512, radius=3000, qa_clear=True, img_reduction='mean', STOP_AT=STOP_AT, randomizequeue=False)"
   ]
  },
  {
   "cell_type": "code",
   "execution_count": null,
   "id": "fcfabaa8",
   "metadata": {},
   "outputs": [],
   "source": []
  }
 ],
 "metadata": {
  "kernelspec": {
   "display_name": "Python 3 (ipykernel)",
   "language": "python",
   "name": "python3"
  },
  "language_info": {
   "codemirror_mode": {
    "name": "ipython",
    "version": 3
   },
   "file_extension": ".py",
   "mimetype": "text/x-python",
   "name": "python",
   "nbconvert_exporter": "python",
   "pygments_lexer": "ipython3",
   "version": "3.9.13"
  }
 },
 "nbformat": 4,
 "nbformat_minor": 5
}
