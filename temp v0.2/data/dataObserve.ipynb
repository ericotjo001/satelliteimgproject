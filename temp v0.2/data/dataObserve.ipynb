{
 "cells": [
  {
   "cell_type": "code",
   "execution_count": 1,
   "id": "5948dceb",
   "metadata": {},
   "outputs": [],
   "source": [
    "import pandas as pd\n",
    "import matplotlib.pyplot as plt\n",
    "import numpy as np\n",
    "%matplotlib inline"
   ]
  },
  {
   "cell_type": "code",
   "execution_count": 2,
   "id": "dddac5ee",
   "metadata": {},
   "outputs": [
    {
     "name": "stdout",
     "output_type": "stream",
     "text": [
      "train_csv       : extracted/dhs_wealth_index_train.csv\n",
      "train_img       : imgs/dhs_train\n",
      "val_csv         : extracted/dhs_wealth_index_val.csv\n",
      "val_img         : imgs/dhs_val\n",
      "test_csv        : extracted/dhs_wealth_index_test.csv\n",
      "test_img        : imgs/dhs_test\n"
     ]
    }
   ],
   "source": [
    "DHS_DATA_DIR = {}\n",
    "for x in ['train','val','test']:\n",
    "    DHS_DATA_DIR['%s_csv'%(str(x))] = 'extracted/dhs_wealth_index_%s.csv'%(str(x))\n",
    "    DHS_DATA_DIR['%s_img'%(str(x))] = 'imgs/dhs_%s'%(str(x))\n",
    "for x,y in DHS_DATA_DIR.items():\n",
    "    print('%-16s:'%(str(x)),y)"
   ]
  },
  {
   "cell_type": "code",
   "execution_count": 3,
   "id": "19a69aeb",
   "metadata": {},
   "outputs": [],
   "source": [
    "BINS = [-1.5,-0.75,-0.25,0.25,0.75,1.5]"
   ]
  },
  {
   "cell_type": "code",
   "execution_count": 4,
   "id": "24911b35",
   "metadata": {},
   "outputs": [
    {
     "name": "stdout",
     "output_type": "stream",
     "text": [
      "Index(['Unnamed: 0', 'id', 'country', 'year', 'wealth', 'wealthpooled',\n",
      "       'households', 'LATNUM', 'LONGNUM'],\n",
      "      dtype='object')\n"
     ]
    },
    {
     "data": {
      "text/plain": [
       "(array([  76.,  508., 1419.,  932.,  556.,  618.,  214.]),\n",
       " array([-3.  , -1.5 , -0.75, -0.25,  0.25,  0.75,  1.5 ,  3.  ]),\n",
       " <BarContainer object of 7 artists>)"
      ]
     },
     "execution_count": 4,
     "metadata": {},
     "output_type": "execute_result"
    },
    {
     "data": {
      "image/png": "[encoded data removed]",
      "text/plain": [
       "<Figure size 432x288 with 1 Axes>"
      ]
     },
     "metadata": {
      "needs_background": "light"
     },
     "output_type": "display_data"
    }
   ],
   "source": [
    "df = pd.read_csv(DHS_DATA_DIR['train_csv'],index_col=None)\n",
    "print(df.columns)\n",
    "plt.figure()\n",
    "plt.hist(df['wealth'], color='skyblue', ec='red', bins=[-3]+BINS+[3])"
   ]
  },
  {
   "cell_type": "code",
   "execution_count": 5,
   "id": "ec502a48",
   "metadata": {},
   "outputs": [
    {
     "name": "stdout",
     "output_type": "stream",
     "text": [
      "Index(['Unnamed: 0', 'id', 'country', 'year', 'wealth', 'wealthpooled',\n",
      "       'households', 'LATNUM', 'LONGNUM'],\n",
      "      dtype='object')\n"
     ]
    },
    {
     "data": {
      "text/plain": [
       "(array([ 39., 232., 632., 366., 233., 227., 101.]),\n",
       " array([-3.  , -1.5 , -0.75, -0.25,  0.25,  0.75,  1.5 ,  3.  ]),\n",
       " <BarContainer object of 7 artists>)"
      ]
     },
     "execution_count": 5,
     "metadata": {},
     "output_type": "execute_result"
    },
    {
     "data": {
      "image/png": "[encoded data removed]",
      "text/plain": [
       "<Figure size 432x288 with 1 Axes>"
      ]
     },
     "metadata": {
      "needs_background": "light"
     },
     "output_type": "display_data"
    }
   ],
   "source": [
    "df_val = pd.read_csv(DHS_DATA_DIR['val_csv'],index_col=None)\n",
    "print(df_val.columns)\n",
    "plt.figure()\n",
    "plt.hist(df_val['wealth'], color='skyblue', ec='red', bins=[-3]+BINS+[3])"
   ]
  },
  {
   "cell_type": "code",
   "execution_count": 6,
   "id": "c5b1981c",
   "metadata": {},
   "outputs": [
    {
     "name": "stdout",
     "output_type": "stream",
     "text": [
      "Index(['Unnamed: 0', 'id', 'country', 'year', 'wealth', 'wealthpooled',\n",
      "       'households', 'LATNUM', 'LONGNUM'],\n",
      "      dtype='object')\n"
     ]
    },
    {
     "data": {
      "text/plain": [
       "(array([  25.,  617., 1665.,  639.,  430.,  707.,  282.]),\n",
       " array([-3.  , -1.5 , -0.75, -0.25,  0.25,  0.75,  1.5 ,  3.  ]),\n",
       " <BarContainer object of 7 artists>)"
      ]
     },
     "execution_count": 6,
     "metadata": {},
     "output_type": "execute_result"
    },
    {
     "data": {
      "image/png": "[encoded data removed]",
      "text/plain": [
       "<Figure size 432x288 with 1 Axes>"
      ]
     },
     "metadata": {
      "needs_background": "light"
     },
     "output_type": "display_data"
    }
   ],
   "source": [
    "df_test = pd.read_csv(DHS_DATA_DIR['test_csv'],index_col=None)\n",
    "print(df_test.columns)\n",
    "plt.figure()\n",
    "plt.hist(df_test['wealth'], color='skyblue', ec='red', bins=[-3]+BINS+[3])"
   ]
  },
  {
   "cell_type": "code",
   "execution_count": null,
   "id": "53d844ed",
   "metadata": {},
   "outputs": [],
   "source": []
  }
 ],
 "metadata": {
  "kernelspec": {
   "display_name": "Python 3 (ipykernel)",
   "language": "python",
   "name": "python3"
  },
  "language_info": {
   "codemirror_mode": {
    "name": "ipython",
    "version": 3
   },
   "file_extension": ".py",
   "mimetype": "text/x-python",
   "name": "python",
   "nbconvert_exporter": "python",
   "pygments_lexer": "ipython3",
   "version": "3.9.13"
  }
 },
 "nbformat": 4,
 "nbformat_minor": 5
}
