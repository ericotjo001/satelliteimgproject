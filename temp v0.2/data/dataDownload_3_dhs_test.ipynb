{
 "cells": [
  {
   "cell_type": "code",
   "execution_count": 1,
   "id": "726d9f77",
   "metadata": {},
   "outputs": [],
   "source": [
    "import os\n",
    "import ee\n",
    "import pandas as pd\n",
    "from tqdm import tqdm\n",
    "import numpy as np\n",
    "from ee_utils import download_dhs_img, download_lsms_img"
   ]
  },
  {
   "cell_type": "code",
   "execution_count": 2,
   "id": "81c0e17a",
   "metadata": {},
   "outputs": [
    {
     "data": {
      "text/html": [
       "<p>To authorize access needed by Earth Engine, open the following\n",
       "        URL in a web browser and follow the instructions:</p>\n",
       "        <p><a href=https://code.earthengine.google.com/client-auth?scopes=https%3A//www.googleapis.com/auth/earthengine%20https%3A//www.googleapis.com/auth/devstorage.full_control&request_id=uWkzSIy2uYYDSsRzZfiLhPU9-14GCrYmbYOo8Qu43E8&tc=C6yLgr-oz79naC2ROkDdRMo6fTSbtfs8oz8Z77KvFXc&cc=61RU0g26wG14YR0QiUjKsrgF7pGSPVVAr_pFVyschBo>https://code.earthengine.google.com/client-auth?scopes=https%3A//www.googleapis.com/auth/earthengine%20https%3A//www.googleapis.com/auth/devstorage.full_control&request_id=uWkzSIy2uYYDSsRzZfiLhPU9-14GCrYmbYOo8Qu43E8&tc=C6yLgr-oz79naC2ROkDdRMo6fTSbtfs8oz8Z77KvFXc&cc=61RU0g26wG14YR0QiUjKsrgF7pGSPVVAr_pFVyschBo</a></p>\n",
       "        <p>The authorization workflow will generate a code, which you\n",
       "        should paste in the box below</p>\n",
       "        "
      ],
      "text/plain": [
       "<IPython.core.display.HTML object>"
      ]
     },
     "metadata": {},
     "output_type": "display_data"
    },
    {
     "name": "stdout",
     "output_type": "stream",
     "text": [
      "Enter verification code: 4/1AX4XfWgYJTc1BfeIyy1U0bjPBn-cH6nj4VxO9HHwQnDElAO5amI_tVziJgY\n",
      "\n",
      "Successfully saved authorization token.\n"
     ]
    }
   ],
   "source": [
    "ee.Authenticate()"
   ]
  },
  {
   "cell_type": "code",
   "execution_count": 3,
   "id": "d9d494b6",
   "metadata": {},
   "outputs": [],
   "source": [
    "ee.Initialize()"
   ]
  },
  {
   "cell_type": "code",
   "execution_count": 4,
   "id": "4a11b71a",
   "metadata": {},
   "outputs": [
    {
     "name": "stdout",
     "output_type": "stream",
     "text": [
      "train_csv       : extracted/dhs_wealth_index_train.csv\n",
      "train_img       : imgs/dhs_train\n",
      "val_csv         : extracted/dhs_wealth_index_val.csv\n",
      "val_img         : imgs/dhs_val\n",
      "test_csv        : extracted/dhs_wealth_index_test.csv\n",
      "test_img        : imgs/dhs_test\n"
     ]
    }
   ],
   "source": [
    "DHS_DATA_DIR = {}\n",
    "for x in ['train','val','test']:\n",
    "    DHS_DATA_DIR['%s_csv'%(str(x))] = 'extracted/dhs_wealth_index_%s.csv'%(str(x))\n",
    "    DHS_DATA_DIR['%s_img'%(str(x))] = 'imgs/dhs_%s'%(str(x))\n",
    "for x,y in DHS_DATA_DIR.items():\n",
    "    print('%-16s:'%(str(x)),y)"
   ]
  },
  {
   "cell_type": "code",
   "execution_count": 5,
   "id": "c5debbbe",
   "metadata": {},
   "outputs": [],
   "source": [
    "STOP_AT= None # # set to None if not debugging"
   ]
  },
  {
   "cell_type": "code",
   "execution_count": 6,
   "id": "d56e7261",
   "metadata": {},
   "outputs": [
    {
     "name": "stderr",
     "output_type": "stream",
     "text": [
      "processing:4423/4424: 100%|██████████████████████████████████████████████████████| 4424/4424 [7:44:23<00:00,  6.30s/it]\n",
      "processing:4423/4424: 100%|██████████████████████████████████████████████████████| 4424/4424 [6:13:50<00:00,  5.07s/it]\n"
     ]
    }
   ],
   "source": [
    "download_dhs_img(DHS_DATA_DIR, split='test', dim=512, radius=3000, STOP_AT=STOP_AT)\n",
    "download_dhs_img(DHS_DATA_DIR, data_source = 'landsat8_infrared', split='test', dim=512, radius=3000, STOP_AT=STOP_AT)"
   ]
  },
  {
   "cell_type": "code",
   "execution_count": null,
   "id": "6ecb2d1e",
   "metadata": {},
   "outputs": [],
   "source": []
  }
 ],
 "metadata": {
  "kernelspec": {
   "display_name": "Python 3 (ipykernel)",
   "language": "python",
   "name": "python3"
  },
  "language_info": {
   "codemirror_mode": {
    "name": "ipython",
    "version": 3
   },
   "file_extension": ".py",
   "mimetype": "text/x-python",
   "name": "python",
   "nbconvert_exporter": "python",
   "pygments_lexer": "ipython3",
   "version": "3.9.13"
  }
 },
 "nbformat": 4,
 "nbformat_minor": 5
}
