{
 "cells": [
  {
   "cell_type": "code",
   "execution_count": 5,
   "id": "afe4146d",
   "metadata": {},
   "outputs": [
    {
     "name": "stdout",
     "output_type": "stream",
     "text": [
      "[-2.         -1.78947368 -1.57894737 -1.36842105 -1.15789474 -0.94736842\n",
      " -0.73684211 -0.52631579 -0.31578947 -0.10526316  0.10526316  0.31578947\n",
      "  0.52631579  0.73684211  0.94736842  1.15789474  1.36842105  1.57894737\n",
      "  1.78947368  2.        ]\n",
      "[-1.  -0.8 -0.6 -0.4 -0.2  0.   0.2  0.4  0.6  0.8  1. ]\n"
     ]
    }
   ],
   "source": [
    "import numpy as np\n",
    "\n",
    "X = np.linspace(-2,2,20)\n",
    "print(X)\n",
    "\n",
    "BINS = np.linspace(-1,1,11)\n",
    "def get_classification(x):\n",
    "    c = 0\n",
    "    for p in BINS:\n",
    "        if x<p: return c\n",
    "        c+=1 \n",
    "    return c\n",
    "\n",
    "print(BINS)"
   ]
  },
  {
   "cell_type": "code",
   "execution_count": 6,
   "id": "a724a7b5",
   "metadata": {},
   "outputs": [
    {
     "name": "stdout",
     "output_type": "stream",
     "text": [
      "-2.0 0\n",
      "-1.789 0\n",
      "-1.579 0\n",
      "-1.368 0\n",
      "-1.158 0\n",
      "-0.947 1\n",
      "-0.737 2\n",
      "-0.526 3\n",
      "-0.316 4\n",
      "-0.105 5\n",
      "0.105 6\n",
      "0.316 7\n",
      "0.526 8\n",
      "0.737 9\n",
      "0.947 10\n",
      "1.158 11\n",
      "1.368 11\n",
      "1.579 11\n",
      "1.789 11\n",
      "2.0 11\n"
     ]
    }
   ],
   "source": [
    "for i in range(len(X)):\n",
    "    print(np.round(X[i],3), get_classification(X[i]))"
   ]
  },
  {
   "cell_type": "code",
   "execution_count": null,
   "id": "eaf79475",
   "metadata": {},
   "outputs": [],
   "source": []
  }
 ],
 "metadata": {
  "kernelspec": {
   "display_name": "Python 3 (ipykernel)",
   "language": "python",
   "name": "python3"
  },
  "language_info": {
   "codemirror_mode": {
    "name": "ipython",
    "version": 3
   },
   "file_extension": ".py",
   "mimetype": "text/x-python",
   "name": "python",
   "nbconvert_exporter": "python",
   "pygments_lexer": "ipython3",
   "version": "3.9.13"
  }
 },
 "nbformat": 4,
 "nbformat_minor": 5
}
