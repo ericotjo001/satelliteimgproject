{
 "cells": [
  {
   "cell_type": "code",
   "execution_count": 1,
   "id": "c58431b8",
   "metadata": {},
   "outputs": [
    {
     "name": "stdout",
     "output_type": "stream",
     "text": [
      "[-2.  -1.8 -1.6 -1.4 -1.2 -1.  -0.8 -0.6 -0.4 -0.2  0.   0.2  0.4  0.6\n",
      "  0.8  1.   1.2  1.4  1.6  1.8  2. ]\n",
      "[-1.  -0.8 -0.6 -0.4 -0.2  0.   0.2  0.4  0.6  0.8  1. ]\n"
     ]
    }
   ],
   "source": [
    "import numpy as np\n",
    "\n",
    "X = np.linspace(-2,2,2)\n",
    "print(X)\n",
    "\n",
    "BINS = np.linspace(-1,1,11)\n",
    "def get_classification(x):\n",
    "    c = 0\n",
    "    for p in BINS:\n",
    "        if x<p: return c\n",
    "        c+=1 \n",
    "    return c\n",
    "\n",
    "print(BINS)"
   ]
  },
  {
   "cell_type": "code",
   "execution_count": 2,
   "id": "4af81f06",
   "metadata": {},
   "outputs": [
    {
     "name": "stdout",
     "output_type": "stream",
     "text": [
      "-2.0 0\n",
      "-1.8 0\n",
      "-1.6 0\n",
      "-1.4 0\n",
      "-1.2 0\n",
      "-1.0 1\n",
      "-0.8 2\n",
      "-0.6 3\n",
      "-0.4 4\n",
      "-0.2 5\n",
      "0.0 6\n",
      "0.2 7\n",
      "0.4 8\n",
      "0.6 9\n",
      "0.8 10\n",
      "1.0 11\n",
      "1.2 11\n",
      "1.4 11\n",
      "1.6 11\n",
      "1.8 11\n",
      "2.0 11\n"
     ]
    }
   ],
   "source": [
    "for i in range(len(X)):\n",
    "    print(np.round(X[i],3), get_classification(X[i]))"
   ]
  },
  {
   "cell_type": "code",
   "execution_count": null,
   "id": "9fd85ce4",
   "metadata": {},
   "outputs": [],
   "source": []
  }
 ],
 "metadata": {
  "kernelspec": {
   "display_name": "Python 3 (ipykernel)",
   "language": "python",
   "name": "python3"
  },
  "language_info": {
   "codemirror_mode": {
    "name": "ipython",
    "version": 3
   },
   "file_extension": ".py",
   "mimetype": "text/x-python",
   "name": "python",
   "nbconvert_exporter": "python",
   "pygments_lexer": "ipython3",
   "version": "3.9.13"
  }
 },
 "nbformat": 4,
 "nbformat_minor": 5
}
