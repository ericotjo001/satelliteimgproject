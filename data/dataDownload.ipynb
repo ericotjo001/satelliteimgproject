{
 "cells": [
  {
   "cell_type": "code",
   "execution_count": 1,
   "id": "564a847d",
   "metadata": {},
   "outputs": [],
   "source": [
    "import os\n",
    "import ee\n",
    "import pandas as pd\n",
    "from tqdm import tqdm"
   ]
  },
  {
   "cell_type": "code",
   "execution_count": 2,
   "id": "1773189c",
   "metadata": {
    "scrolled": true
   },
   "outputs": [
    {
     "data": {
      "text/html": [
       "<p>To authorize access needed by Earth Engine, open the following\n",
       "        URL in a web browser and follow the instructions:</p>\n",
       "        <p><a href=https://code.earthengine.google.com/client-auth?scopes=https%3A//www.googleapis.com/auth/earthengine%20https%3A//www.googleapis.com/auth/devstorage.full_control&request_id=Z0lE3O6E9nMbxV4QjqGKrcod2gKcqraxUOQ8IHRIywM&tc=KjNyjIbCUCIiZzXvpyBD8Aq7UJh9rEB58ihUmQ4UHyM&cc=9W0uGMUOiOJnv6PIGBUbsWbclRU6fBdlhnnQogsVBdo>https://code.earthengine.google.com/client-auth?scopes=https%3A//www.googleapis.com/auth/earthengine%20https%3A//www.googleapis.com/auth/devstorage.full_control&request_id=Z0lE3O6E9nMbxV4QjqGKrcod2gKcqraxUOQ8IHRIywM&tc=KjNyjIbCUCIiZzXvpyBD8Aq7UJh9rEB58ihUmQ4UHyM&cc=9W0uGMUOiOJnv6PIGBUbsWbclRU6fBdlhnnQogsVBdo</a></p>\n",
       "        <p>The authorization workflow will generate a code, which you\n",
       "        should paste in the box below</p>\n",
       "        "
      ],
      "text/plain": [
       "<IPython.core.display.HTML object>"
      ]
     },
     "metadata": {},
     "output_type": "display_data"
    },
    {
     "name": "stdout",
     "output_type": "stream",
     "text": [
      "Enter verification code: 4/1AX4XfWhT8R4Mpqn-gsw3-P8uGs5hMiIAfwwyuB1GDyQ3zLVvWk0hm2yzpzI\n",
      "\n",
      "Successfully saved authorization token.\n"
     ]
    }
   ],
   "source": [
    "ee.Authenticate()"
   ]
  },
  {
   "cell_type": "code",
   "execution_count": 3,
   "id": "4bed74f1",
   "metadata": {},
   "outputs": [],
   "source": [
    "ee.Initialize()"
   ]
  },
  {
   "cell_type": "code",
   "execution_count": 4,
   "id": "3011b9a6",
   "metadata": {},
   "outputs": [
    {
     "name": "stdout",
     "output_type": "stream",
     "text": [
      "train_csv       : extracted/dhs_wealth_index_train.csv\n",
      "train_img       : imgs/dhs_train\n",
      "val_csv         : extracted/dhs_wealth_index_val.csv\n",
      "val_img         : imgs/dhs_val\n",
      "test_csv        : extracted/dhs_wealth_index_test.csv\n",
      "test_img        : imgs/dhs_test\n"
     ]
    }
   ],
   "source": [
    "DHS_DATA_DIR = {}\n",
    "for x in ['train','val','test']:\n",
    "    DHS_DATA_DIR['%s_csv'%(str(x))] = 'extracted/dhs_wealth_index_%s.csv'%(str(x))\n",
    "    DHS_DATA_DIR['%s_img'%(str(x))] = 'imgs/dhs_%s'%(str(x))\n",
    "for x,y in DHS_DATA_DIR.items():\n",
    "    print('%-16s:'%(str(x)),y)"
   ]
  },
  {
   "cell_type": "code",
   "execution_count": 5,
   "id": "1216254e",
   "metadata": {},
   "outputs": [],
   "source": [
    "def get_start_end_date(year):\n",
    "    start_date = '%s-1-1'%(year)\n",
    "    end_date = '%s-12-31'%(year)\n",
    "    return start_date, end_date"
   ]
  },
  {
   "cell_type": "code",
   "execution_count": 6,
   "id": "db70a324",
   "metadata": {},
   "outputs": [],
   "source": [
    "def decode_qamask(img: ee.Image) -> ee.Image:\n",
    "    '''\n",
    "    Args\n",
    "    - img: ee.Image, Landsat 5/7/8 image containing 'pixel_qa' band\n",
    "    Returns\n",
    "    - masks: ee.Image, contains 5 bands of masks\n",
    "    Pixel QA Bit Flags (universal across Landsat 5/7/8)\n",
    "    Bit  Attribute\n",
    "    0    Fill\n",
    "    1    Clear\n",
    "    2    Water\n",
    "    3    Cloud Shadow\n",
    "    4    Snow\n",
    "    5    Cloud\n",
    "    '''\n",
    "    qa = img.select('QA_PIXEL')\n",
    "    clear = qa.bitwiseAnd(2).neq(0)  # 0 = not clear, 1 = clear\n",
    "    clear = clear.updateMask(clear).rename(['pxqa_clear'])\n",
    "\n",
    "    water = qa.bitwiseAnd(4).neq(0)  # 0 = not water, 1 = water\n",
    "    water = water.updateMask(water).rename(['pxqa_water'])\n",
    "\n",
    "    cloud_shadow = qa.bitwiseAnd(8).eq(0)  # 0 = shadow, 1 = not shadow\n",
    "    cloud_shadow = cloud_shadow.updateMask(cloud_shadow).rename(['pxqa_cloudshadow'])\n",
    "\n",
    "    snow = qa.bitwiseAnd(16).eq(0)  # 0 = snow, 1 = not snow\n",
    "    snow = snow.updateMask(snow).rename(['pxqa_snow'])\n",
    "\n",
    "    cloud = qa.bitwiseAnd(32).eq(0)  # 0 = cloud, 1 = not cloud\n",
    "    cloud = cloud.updateMask(cloud).rename(['pxqa_cloud'])\n",
    "\n",
    "    masks = ee.Image.cat([clear, water, cloud_shadow, snow, cloud])\n",
    "    return masks\n",
    "\n",
    "def applyScaleFactor(image):\n",
    "    image.select('SR_B.').multiply(0.0000275).add(-0.2);\n",
    "    return image\n",
    "\n",
    "def mask_qaclear(img: ee.Image) -> ee.Image:\n",
    "    '''\n",
    "    Args\n",
    "    - img: ee.Image\n",
    "    Returns\n",
    "    - img: ee.Image, input image with cloud-shadow, snow, cloud, and unclear\n",
    "        pixels masked out\n",
    "    '''\n",
    "    qam = decode_qamask(img)\n",
    "    cloudshadow_mask = qam.select('pxqa_cloudshadow')\n",
    "    snow_mask = qam.select('pxqa_snow')\n",
    "    cloud_mask = qam.select('pxqa_cloud')\n",
    "    return img.updateMask(cloudshadow_mask).updateMask(snow_mask).updateMask(cloud_mask)\n"
   ]
  },
  {
   "cell_type": "code",
   "execution_count": 7,
   "id": "5a70b413",
   "metadata": {},
   "outputs": [],
   "source": [
    "import requests        \n",
    "\n",
    "def save_an_image(datacode, bands, coords, fname, start_date, end_date, save_dir, dim=256,\n",
    "    radius=2000):\n",
    "    \"\"\"\n",
    "    args e.g.\n",
    "        datacode get from Landsat website, e.g. 'LANDSAT/LC08/C02/T1_L2'\n",
    "        bands e.g. ['SR_B2','SR_B3','SR_B4']\n",
    "        coords: (longitudinal, latitude)\n",
    "        fname: any filename you like. Better coded like country_year\n",
    "        start_date, end_data = '2015-1-1', '2017-12-31'\n",
    "        dim: size of downloaded image\n",
    "        radius: in metres\n",
    "\n",
    "        19637 is approx 0.3*65455, the recommended colour for visualization\n",
    "          where 65455 is the colour max for SR_B.\n",
    "    \"\"\"\n",
    "    f_name = fname +'.png'\n",
    "    img_save_dir = os.path.join(save_dir,f_name)\n",
    "    if os.path.exists(img_save_dir):\n",
    "        return\n",
    "\n",
    "    LON, LAT= coords\n",
    "    roi = ee.Geometry.Point(LON,LAT).buffer(radius) # in meters. Singapore width is 26km\n",
    "    imgcol = ee.ImageCollection(datacode)\n",
    "    imgcol = imgcol.filterDate(start_date,end_date).filterBounds(roi)\n",
    "    # print('imgcol.size().getInfo():',imgcol.size().getInfo())\n",
    "    imgcol.map(applyScaleFactor)\n",
    "    imgcol = imgcol.map(mask_qaclear)\n",
    "    \n",
    "    imgcol = imgcol.select(bands)\n",
    "    img = imgcol.median() #  median() also work\n",
    "\n",
    "    img.visualize(bands=bands,gamma=1)\n",
    "    \n",
    "    url = img.getThumbUrl({'min':0,'max':19637,'dimensions': dim, 'region': roi,}) # max 65455 is from the website's specification\n",
    "\n",
    "    page = requests.get(url)\n",
    "    \n",
    "    with open(img_save_dir, 'wb') as f:\n",
    "        f.write(page.content)"
   ]
  },
  {
   "cell_type": "code",
   "execution_count": 9,
   "id": "e7894f0e",
   "metadata": {},
   "outputs": [],
   "source": [
    "def download_dhs_img(DHS_DATA_DIR, data_source = 'landsat7_color', split='train', dim=256, radius=2000, STOP_AT=50):\n",
    "    df = pd.read_csv(DHS_DATA_DIR['%s_csv'%(str(split))])\n",
    "    \n",
    "    if data_source == 'landsat7_color': \n",
    "        datacode = 'LANDSAT/LE07/C02/T1_L2'  \n",
    "        bands = ['SR_B3','SR_B2','SR_B1']\n",
    "        fname_appendix = ''\n",
    "        save_dir = DHS_DATA_DIR['%s_img'%(str(split))]\n",
    "    elif data_source == 'landsat7_infrared':\n",
    "        datacode = 'LANDSAT/LE07/C02/T1_L2'  \n",
    "        bands = ['SR_B4','SR_B5','SR_B7']\n",
    "        fname_appendix = '_infra'\n",
    "        save_dir = DHS_DATA_DIR['%s_img'%(str(split))] +'infra'\n",
    "    else:\n",
    "        raise NotImplementedError()\n",
    "    \n",
    "    if not os.path.exists(save_dir):\n",
    "        os.makedirs(save_dir, exist_ok=True)\n",
    "    \n",
    "    indices = tqdm(df.index[:],0)\n",
    "    n = len(df.index[:])\n",
    "    counter=0\n",
    "    for i in indices:\n",
    "        thisrow = df.loc[i]\n",
    "        coords = (thisrow['LONGNUM'],thisrow['LATNUM'])\n",
    "        fname = thisrow['id'] + fname_appendix\n",
    "        start_date, end_date = get_start_end_date(thisrow['year'])\n",
    "        \n",
    "        save_an_image(datacode, bands, coords, fname, start_date, end_date, save_dir, dim=dim, radius=radius)\n",
    "        indices.set_description('processing:%s/%s'%(str(i),str(n)))\n",
    "        counter+=1\n",
    "        if counter>=STOP_AT:\n",
    "            break\n"
   ]
  },
  {
   "cell_type": "code",
   "execution_count": 10,
   "id": "83c619c7",
   "metadata": {},
   "outputs": [
    {
     "name": "stderr",
     "output_type": "stream",
     "text": [
      "processing:49/11493:   0%|▎                                                                      | 49/11493 [01:45<6:52:28,  2.16s/it]\n"
     ]
    }
   ],
   "source": [
    "download_dhs_img(DHS_DATA_DIR, split='train', dim=196, radius=4000)"
   ]
  },
  {
   "cell_type": "code",
   "execution_count": null,
   "id": "adb9ff95",
   "metadata": {},
   "outputs": [],
   "source": []
  },
  {
   "cell_type": "raw",
   "id": "2388b499",
   "metadata": {},
   "source": []
  },
  {
   "cell_type": "code",
   "execution_count": null,
   "id": "2d1a9221",
   "metadata": {},
   "outputs": [],
   "source": []
  }
 ],
 "metadata": {
  "kernelspec": {
   "display_name": "Python 3 (ipykernel)",
   "language": "python",
   "name": "python3"
  },
  "language_info": {
   "codemirror_mode": {
    "name": "ipython",
    "version": 3
   },
   "file_extension": ".py",
   "mimetype": "text/x-python",
   "name": "python",
   "nbconvert_exporter": "python",
   "pygments_lexer": "ipython3",
   "version": "3.9.13"
  }
 },
 "nbformat": 4,
 "nbformat_minor": 5
}
