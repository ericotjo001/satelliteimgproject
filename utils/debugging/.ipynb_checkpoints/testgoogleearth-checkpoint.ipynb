{
 "cells": [
  {
   "cell_type": "code",
   "execution_count": 1,
   "id": "ba8b9f24",
   "metadata": {},
   "outputs": [],
   "source": [
    "import ee\n",
    "import ee_utils\n",
    "import pandas as pd\n",
    "from typing import Any, Mapping, Optional, Tuple, Union\n",
    "Numeric = Union[int, float]\n",
    "import numpy as np\n",
    "import os, requests\n",
    "from IPython.display import Image"
   ]
  },
  {
   "cell_type": "code",
   "execution_count": 2,
   "id": "5e260bf5",
   "metadata": {},
   "outputs": [
    {
     "data": {
      "text/html": [
       "<p>To authorize access needed by Earth Engine, open the following\n",
       "        URL in a web browser and follow the instructions:</p>\n",
       "        <p><a href=https://code.earthengine.google.com/client-auth?scopes=https%3A//www.googleapis.com/auth/earthengine%20https%3A//www.googleapis.com/auth/devstorage.full_control&request_id=FrXhL4jibOaeyRLPbIiSoqdK7yHrzX8gJU0phwcAbCc&tc=tWkbHHd9AbjfT29yJ4KxpvtP1hZrMLUUiBFFllwnT9o&cc=jmFZjRtQz63lSleBqIRq6b-CcOt52Mzc-SWaBKfqCoU>https://code.earthengine.google.com/client-auth?scopes=https%3A//www.googleapis.com/auth/earthengine%20https%3A//www.googleapis.com/auth/devstorage.full_control&request_id=FrXhL4jibOaeyRLPbIiSoqdK7yHrzX8gJU0phwcAbCc&tc=tWkbHHd9AbjfT29yJ4KxpvtP1hZrMLUUiBFFllwnT9o&cc=jmFZjRtQz63lSleBqIRq6b-CcOt52Mzc-SWaBKfqCoU</a></p>\n",
       "        <p>The authorization workflow will generate a code, which you\n",
       "        should paste in the box below</p>\n",
       "        "
      ],
      "text/plain": [
       "<IPython.core.display.HTML object>"
      ]
     },
     "metadata": {},
     "output_type": "display_data"
    },
    {
     "name": "stdout",
     "output_type": "stream",
     "text": [
      "Enter verification code: 4/1AX4XfWh2C3sEPWsTIBqsL8YFv7Ja9Ly4W8d1Wqi4FNhXi3jDXQIGdF9sPxM\n",
      "\n",
      "Successfully saved authorization token.\n"
     ]
    }
   ],
   "source": [
    "ee.Authenticate()"
   ]
  },
  {
   "cell_type": "code",
   "execution_count": 3,
   "id": "625dd016",
   "metadata": {},
   "outputs": [],
   "source": [
    "ee.Initialize()"
   ]
  },
  {
   "cell_type": "code",
   "execution_count": 29,
   "id": "bf43a03f",
   "metadata": {},
   "outputs": [],
   "source": [
    "def save_an_image(datacode, bands, coords, fname, start_date, end_date, dim=256):\n",
    "    LON, LAT= coords\n",
    "    roi = ee.Geometry.Point(LON,LAT).buffer(1000) # in meters. Singapore width is 26km\n",
    "    imgcol = ee.ImageCollection(datacode)\n",
    "    imgcol = imgcol.filterDate(start_date,end_date).filterBounds(roi)\n",
    "    imgcol = imgcol.map(ee_utils.mask_qaclear).select(MS_BANDS)\n",
    "    img = imgcol.mean().select(bands)\n",
    "    \n",
    "    imgcol = ee.ImageCollection(datacode)\n",
    "    imgcol = imgcol.filterDate(start_date,end_date).filterBounds(roi)\n",
    "    # print('imgcol.size().getInfo():',imgcol.size().getInfo())\n",
    "    imgcol = imgcol.map(ee_utils.mask_qaclear)\n",
    "    imgcol = imgcol.select(bands)\n",
    "    img = imgcol.median() #  mean() also work\n",
    "    \n",
    "    url = img.getThumbUrl({'min':0,'max':65455,'dimensions': dim, 'region': roi,}) # max 65455 is from the website's specification\n",
    "    print(url)\n",
    "\n",
    "    page = requests.get(url)\n",
    "    f_name = fname +'.png'\n",
    "    with open(f_name, 'wb') as f:\n",
    "        f.write(page.content)"
   ]
  },
  {
   "cell_type": "code",
   "execution_count": 30,
   "id": "11f9425a",
   "metadata": {},
   "outputs": [
    {
     "name": "stdout",
     "output_type": "stream",
     "text": [
      "2009-1-1 2011-12-31\n",
      "https://earthengine.googleapis.com/v1alpha/projects/earthengine-legacy/thumbnails/05168ca987da0da20ac6a5647109bae3-2bcd61740e81b6f823cfa6de1aaa5405:getPixels\n"
     ]
    }
   ],
   "source": [
    "LAT, LON = -12.350257, 13.534922\n",
    "\n",
    "country, year = 'Angola', 2011\n",
    "fname = '%s_%s'%(country, str(year))\n",
    "MS_BANDS = ['SR_B1','SR_B2','SR_B3', 'QA_PIXEL'] # 'BLUE, GREEN, RED, Pixel quality attributes generated from the CFMASK algorithm.'\n",
    "\n",
    "# image export parameters\n",
    "start_date, end_date = ee_utils.surveyyear_to_range(year)\n",
    "print(start_date, end_date)\n",
    "\n",
    "L7CODE = 'LANDSAT/LE07/C02/T1_L2'\n",
    "save_an_image(datacode=L7CODE, \n",
    "              bands=['SR_B1','SR_B2','SR_B3'], coords=(LON, LAT),\n",
    "              fname=fname,start_date=start_date, end_date=end_date, dim='512')"
   ]
  },
  {
   "cell_type": "code",
   "execution_count": 31,
   "id": "14d4cdec",
   "metadata": {},
   "outputs": [
    {
     "name": "stdout",
     "output_type": "stream",
     "text": [
      "https://earthengine.googleapis.com/v1alpha/projects/earthengine-legacy/thumbnails/8c081e6ca2a66df8b6b94e67a4a0bda6-5c27d660ae159b735e12e74b43ea7321:getPixels\n"
     ]
    }
   ],
   "source": [
    "L8CODE = 'LANDSAT/LC08/C02/T1_L2'\n",
    "l8_bands = ['SR_B2','SR_B3','SR_B4']\n",
    "start_date, end_date = '2015-1-1', '2017-12-31'\n",
    "fname = 'Angola_2015'\n",
    "save_an_image(datacode=L8CODE, \n",
    "              bands=l8_bands, coords=(LON, LAT),\n",
    "              fname=fname,start_date=start_date, end_date=end_date, dim='512')"
   ]
  },
  {
   "cell_type": "code",
   "execution_count": null,
   "id": "993c9a25",
   "metadata": {},
   "outputs": [],
   "source": []
  }
 ],
 "metadata": {
  "kernelspec": {
   "display_name": "Python 3 (ipykernel)",
   "language": "python",
   "name": "python3"
  },
  "language_info": {
   "codemirror_mode": {
    "name": "ipython",
    "version": 3
   },
   "file_extension": ".py",
   "mimetype": "text/x-python",
   "name": "python",
   "nbconvert_exporter": "python",
   "pygments_lexer": "ipython3",
   "version": "3.9.13"
  }
 },
 "nbformat": 4,
 "nbformat_minor": 5
}
